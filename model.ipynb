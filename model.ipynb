{
 "cells": [
  {
   "cell_type": "code",
   "execution_count": 1,
   "id": "d7c7477c",
   "metadata": {
    "_cell_guid": "b1076dfc-b9ad-4769-8c92-a6c4dae69d19",
    "_uuid": "8f2839f25d086af736a60e9eeb907d3b93b6e0e5",
    "execution": {
     "iopub.execute_input": "2023-06-25T07:18:10.596805Z",
     "iopub.status.busy": "2023-06-25T07:18:10.596274Z",
     "iopub.status.idle": "2023-06-25T07:18:10.612135Z",
     "shell.execute_reply": "2023-06-25T07:18:10.610905Z"
    },
    "papermill": {
     "duration": 0.033089,
     "end_time": "2023-06-25T07:18:10.615272",
     "exception": false,
     "start_time": "2023-06-25T07:18:10.582183",
     "status": "completed"
    },
    "tags": []
   },
   "outputs": [
    {
     "name": "stdout",
     "output_type": "stream",
     "text": [
      "/kaggle/input/e-commerce-shoppers-behaviour-understanding/test_data_v2.csv\n",
      "/kaggle/input/e-commerce-shoppers-behaviour-understanding/train_data_v2.csv\n",
      "/kaggle/input/e-commerce-shoppers-behaviour-understanding/sample.csv\n"
     ]
    }
   ],
   "source": [
    "# This Python 3 environment comes with many helpful analytics libraries installed\n",
    "# It is defined by the kaggle/python Docker image: https://github.com/kaggle/docker-python\n",
    "# For example, here's several helpful packages to load\n",
    "\n",
    "import numpy as np # linear algebra\n",
    "import pandas as pd # data processing, CSV file I/O (e.g. pd.read_csv)\n",
    "\n",
    "# Input data files are available in the read-only \"../input/\" directory\n",
    "# For example, running this (by clicking run or pressing Shift+Enter) will list all files under the input directory\n",
    "\n",
    "import os\n",
    "for dirname, _, filenames in os.walk('/kaggle/input'):\n",
    "    for filename in filenames:\n",
    "        print(os.path.join(dirname, filename))\n",
    "\n",
    "# You can write up to 20GB to the current directory (/kaggle/working/) that gets preserved as output when you create a version using \"Save & Run All\" \n",
    "# You can also write temporary files to /kaggle/temp/, but they won't be saved outside of the current session"
   ]
  },
  {
   "cell_type": "code",
   "execution_count": 2,
   "id": "682b4475",
   "metadata": {
    "execution": {
     "iopub.execute_input": "2023-06-25T07:18:10.639787Z",
     "iopub.status.busy": "2023-06-25T07:18:10.639329Z",
     "iopub.status.idle": "2023-06-25T07:18:11.724470Z",
     "shell.execute_reply": "2023-06-25T07:18:11.723110Z"
    },
    "papermill": {
     "duration": 1.100622,
     "end_time": "2023-06-25T07:18:11.727649",
     "exception": false,
     "start_time": "2023-06-25T07:18:10.627027",
     "status": "completed"
    },
    "tags": []
   },
   "outputs": [],
   "source": [
    "import matplotlib.pyplot as plt\n",
    "import seaborn as sns\n",
    "import scipy as sp"
   ]
  },
  {
   "cell_type": "markdown",
   "id": "ffd68dec",
   "metadata": {
    "papermill": {
     "duration": 0.011159,
     "end_time": "2023-06-25T07:18:11.750095",
     "exception": false,
     "start_time": "2023-06-25T07:18:11.738936",
     "status": "completed"
    },
    "tags": []
   },
   "source": [
    "Define train set, test set, X_train, y_train, X_test, y_test\n",
    "num_data=data columns with numeric features\n",
    "cat_data=data columns with categorical features"
   ]
  },
  {
   "cell_type": "code",
   "execution_count": 3,
   "id": "5b5a9feb",
   "metadata": {
    "execution": {
     "iopub.execute_input": "2023-06-25T07:18:11.774138Z",
     "iopub.status.busy": "2023-06-25T07:18:11.773729Z",
     "iopub.status.idle": "2023-06-25T07:18:11.911064Z",
     "shell.execute_reply": "2023-06-25T07:18:11.909822Z"
    },
    "papermill": {
     "duration": 0.152955,
     "end_time": "2023-06-25T07:18:11.914336",
     "exception": false,
     "start_time": "2023-06-25T07:18:11.761381",
     "status": "completed"
    },
    "tags": []
   },
   "outputs": [],
   "source": [
    "train=pd.read_csv('/kaggle/input/e-commerce-shoppers-behaviour-understanding/train_data_v2.csv')\n",
    "test=pd.read_csv('/kaggle/input/e-commerce-shoppers-behaviour-understanding/test_data_v2.csv')"
   ]
  },
  {
   "cell_type": "code",
   "execution_count": 4,
   "id": "fef81431",
   "metadata": {
    "execution": {
     "iopub.execute_input": "2023-06-25T07:18:11.938460Z",
     "iopub.status.busy": "2023-06-25T07:18:11.938035Z",
     "iopub.status.idle": "2023-06-25T07:18:11.948126Z",
     "shell.execute_reply": "2023-06-25T07:18:11.947095Z"
    },
    "papermill": {
     "duration": 0.026714,
     "end_time": "2023-06-25T07:18:11.952288",
     "exception": false,
     "start_time": "2023-06-25T07:18:11.925574",
     "status": "completed"
    },
    "tags": []
   },
   "outputs": [
    {
     "data": {
      "text/plain": [
       "['HomePage',\n",
       " 'HomePage_Duration',\n",
       " 'LandingPage',\n",
       " 'LandingPage_Duration',\n",
       " 'ProductDescriptionPage',\n",
       " 'ProductDescriptionPage_Duration',\n",
       " 'GoogleMetric:Bounce Rates',\n",
       " 'GoogleMetric:Exit Rates',\n",
       " 'GoogleMetric:Page Values',\n",
       " 'SeasonalPurchase',\n",
       " 'Month_SeasonalPurchase',\n",
       " 'OS',\n",
       " 'SearchEngine',\n",
       " 'Zone',\n",
       " 'Type of Traffic',\n",
       " 'CustomerType',\n",
       " 'Gender',\n",
       " 'Cookies Setting',\n",
       " 'Education',\n",
       " 'Marital Status',\n",
       " 'WeekendPurchase']"
      ]
     },
     "execution_count": 4,
     "metadata": {},
     "output_type": "execute_result"
    }
   ],
   "source": [
    "feature_list=list(train.columns)[:-1]\n",
    "feature_list"
   ]
  },
  {
   "cell_type": "code",
   "execution_count": 5,
   "id": "86fcf03e",
   "metadata": {
    "execution": {
     "iopub.execute_input": "2023-06-25T07:18:11.977612Z",
     "iopub.status.busy": "2023-06-25T07:18:11.977196Z",
     "iopub.status.idle": "2023-06-25T07:18:12.012558Z",
     "shell.execute_reply": "2023-06-25T07:18:12.011425Z"
    },
    "papermill": {
     "duration": 0.05059,
     "end_time": "2023-06-25T07:18:12.015404",
     "exception": false,
     "start_time": "2023-06-25T07:18:11.964814",
     "status": "completed"
    },
    "tags": []
   },
   "outputs": [
    {
     "data": {
      "text/html": [
       "<div>\n",
       "<style scoped>\n",
       "    .dataframe tbody tr th:only-of-type {\n",
       "        vertical-align: middle;\n",
       "    }\n",
       "\n",
       "    .dataframe tbody tr th {\n",
       "        vertical-align: top;\n",
       "    }\n",
       "\n",
       "    .dataframe thead th {\n",
       "        text-align: right;\n",
       "    }\n",
       "</style>\n",
       "<table border=\"1\" class=\"dataframe\">\n",
       "  <thead>\n",
       "    <tr style=\"text-align: right;\">\n",
       "      <th></th>\n",
       "      <th>HomePage</th>\n",
       "      <th>HomePage_Duration</th>\n",
       "      <th>LandingPage</th>\n",
       "      <th>LandingPage_Duration</th>\n",
       "      <th>ProductDescriptionPage</th>\n",
       "      <th>ProductDescriptionPage_Duration</th>\n",
       "      <th>GoogleMetric:Bounce Rates</th>\n",
       "      <th>GoogleMetric:Exit Rates</th>\n",
       "      <th>GoogleMetric:Page Values</th>\n",
       "      <th>SeasonalPurchase</th>\n",
       "      <th>...</th>\n",
       "      <th>OS</th>\n",
       "      <th>SearchEngine</th>\n",
       "      <th>Zone</th>\n",
       "      <th>Type of Traffic</th>\n",
       "      <th>CustomerType</th>\n",
       "      <th>Gender</th>\n",
       "      <th>Cookies Setting</th>\n",
       "      <th>Education</th>\n",
       "      <th>Marital Status</th>\n",
       "      <th>WeekendPurchase</th>\n",
       "    </tr>\n",
       "  </thead>\n",
       "  <tbody>\n",
       "    <tr>\n",
       "      <th>0</th>\n",
       "      <td>0.0</td>\n",
       "      <td>0.0</td>\n",
       "      <td>0.0</td>\n",
       "      <td>0.0</td>\n",
       "      <td>1.0</td>\n",
       "      <td>0.0</td>\n",
       "      <td>0.2</td>\n",
       "      <td>0.2</td>\n",
       "      <td>0.0</td>\n",
       "      <td>0.0</td>\n",
       "      <td>...</td>\n",
       "      <td>1.0</td>\n",
       "      <td>1.0</td>\n",
       "      <td>1.0</td>\n",
       "      <td>1.0</td>\n",
       "      <td>Returning_Visitor</td>\n",
       "      <td>Not Specified</td>\n",
       "      <td>Deny</td>\n",
       "      <td>Not Specified</td>\n",
       "      <td>Single</td>\n",
       "      <td>0.0</td>\n",
       "    </tr>\n",
       "  </tbody>\n",
       "</table>\n",
       "<p>1 rows × 21 columns</p>\n",
       "</div>"
      ],
      "text/plain": [
       "   HomePage  HomePage_Duration  LandingPage  LandingPage_Duration  \\\n",
       "0       0.0                0.0          0.0                   0.0   \n",
       "\n",
       "   ProductDescriptionPage  ProductDescriptionPage_Duration  \\\n",
       "0                     1.0                              0.0   \n",
       "\n",
       "   GoogleMetric:Bounce Rates  GoogleMetric:Exit Rates  \\\n",
       "0                        0.2                      0.2   \n",
       "\n",
       "   GoogleMetric:Page Values  SeasonalPurchase  ...   OS  SearchEngine  Zone  \\\n",
       "0                       0.0               0.0  ...  1.0           1.0   1.0   \n",
       "\n",
       "   Type of Traffic       CustomerType         Gender Cookies Setting  \\\n",
       "0              1.0  Returning_Visitor  Not Specified            Deny   \n",
       "\n",
       "       Education Marital Status WeekendPurchase  \n",
       "0  Not Specified         Single             0.0  \n",
       "\n",
       "[1 rows x 21 columns]"
      ]
     },
     "execution_count": 5,
     "metadata": {},
     "output_type": "execute_result"
    }
   ],
   "source": [
    "test[:1]"
   ]
  },
  {
   "cell_type": "code",
   "execution_count": 6,
   "id": "b548f4b4",
   "metadata": {
    "execution": {
     "iopub.execute_input": "2023-06-25T07:18:12.041496Z",
     "iopub.status.busy": "2023-06-25T07:18:12.040152Z",
     "iopub.status.idle": "2023-06-25T07:18:12.056309Z",
     "shell.execute_reply": "2023-06-25T07:18:12.054827Z"
    },
    "papermill": {
     "duration": 0.032126,
     "end_time": "2023-06-25T07:18:12.059289",
     "exception": false,
     "start_time": "2023-06-25T07:18:12.027163",
     "status": "completed"
    },
    "tags": []
   },
   "outputs": [],
   "source": [
    "X_train=train[feature_list]\n",
    "y_train=train['Made_Purchase']\n",
    "X_test=test[feature_list]"
   ]
  },
  {
   "cell_type": "code",
   "execution_count": 7,
   "id": "ab1f8aae",
   "metadata": {
    "execution": {
     "iopub.execute_input": "2023-06-25T07:18:12.084661Z",
     "iopub.status.busy": "2023-06-25T07:18:12.083930Z",
     "iopub.status.idle": "2023-06-25T07:18:12.090109Z",
     "shell.execute_reply": "2023-06-25T07:18:12.088767Z"
    },
    "papermill": {
     "duration": 0.021679,
     "end_time": "2023-06-25T07:18:12.092653",
     "exception": false,
     "start_time": "2023-06-25T07:18:12.070974",
     "status": "completed"
    },
    "tags": []
   },
   "outputs": [
    {
     "name": "stdout",
     "output_type": "stream",
     "text": [
      "(14731, 21)\n",
      "(14731,)\n",
      "(6599, 21)\n"
     ]
    }
   ],
   "source": [
    "print(X_train.shape)\n",
    "print(y_train.shape)\n",
    "print(X_test.shape)"
   ]
  },
  {
   "cell_type": "code",
   "execution_count": 8,
   "id": "7cd0318d",
   "metadata": {
    "execution": {
     "iopub.execute_input": "2023-06-25T07:18:12.118281Z",
     "iopub.status.busy": "2023-06-25T07:18:12.117275Z",
     "iopub.status.idle": "2023-06-25T07:18:12.152612Z",
     "shell.execute_reply": "2023-06-25T07:18:12.151418Z"
    },
    "papermill": {
     "duration": 0.051178,
     "end_time": "2023-06-25T07:18:12.155490",
     "exception": false,
     "start_time": "2023-06-25T07:18:12.104312",
     "status": "completed"
    },
    "tags": []
   },
   "outputs": [
    {
     "data": {
      "text/html": [
       "<div>\n",
       "<style scoped>\n",
       "    .dataframe tbody tr th:only-of-type {\n",
       "        vertical-align: middle;\n",
       "    }\n",
       "\n",
       "    .dataframe tbody tr th {\n",
       "        vertical-align: top;\n",
       "    }\n",
       "\n",
       "    .dataframe thead th {\n",
       "        text-align: right;\n",
       "    }\n",
       "</style>\n",
       "<table border=\"1\" class=\"dataframe\">\n",
       "  <thead>\n",
       "    <tr style=\"text-align: right;\">\n",
       "      <th></th>\n",
       "      <th>HomePage</th>\n",
       "      <th>HomePage_Duration</th>\n",
       "      <th>LandingPage</th>\n",
       "      <th>LandingPage_Duration</th>\n",
       "      <th>ProductDescriptionPage</th>\n",
       "      <th>ProductDescriptionPage_Duration</th>\n",
       "      <th>GoogleMetric:Bounce Rates</th>\n",
       "      <th>GoogleMetric:Exit Rates</th>\n",
       "      <th>GoogleMetric:Page Values</th>\n",
       "      <th>SeasonalPurchase</th>\n",
       "      <th>...</th>\n",
       "      <th>OS</th>\n",
       "      <th>SearchEngine</th>\n",
       "      <th>Zone</th>\n",
       "      <th>Type of Traffic</th>\n",
       "      <th>CustomerType</th>\n",
       "      <th>Gender</th>\n",
       "      <th>Cookies Setting</th>\n",
       "      <th>Education</th>\n",
       "      <th>Marital Status</th>\n",
       "      <th>WeekendPurchase</th>\n",
       "    </tr>\n",
       "  </thead>\n",
       "  <tbody>\n",
       "    <tr>\n",
       "      <th>0</th>\n",
       "      <td>0.0</td>\n",
       "      <td>0.0</td>\n",
       "      <td>0.0</td>\n",
       "      <td>0.0</td>\n",
       "      <td>1.0</td>\n",
       "      <td>0.000000</td>\n",
       "      <td>0.20</td>\n",
       "      <td>0.20</td>\n",
       "      <td>0.0</td>\n",
       "      <td>0.0</td>\n",
       "      <td>...</td>\n",
       "      <td>4.0</td>\n",
       "      <td>1.0</td>\n",
       "      <td>9.0</td>\n",
       "      <td>3.0</td>\n",
       "      <td>Returning_Visitor</td>\n",
       "      <td>Not Specified</td>\n",
       "      <td>Deny</td>\n",
       "      <td>Not Specified</td>\n",
       "      <td>Other</td>\n",
       "      <td>0.0</td>\n",
       "    </tr>\n",
       "    <tr>\n",
       "      <th>1</th>\n",
       "      <td>0.0</td>\n",
       "      <td>0.0</td>\n",
       "      <td>0.0</td>\n",
       "      <td>0.0</td>\n",
       "      <td>2.0</td>\n",
       "      <td>2.666667</td>\n",
       "      <td>0.05</td>\n",
       "      <td>0.14</td>\n",
       "      <td>0.0</td>\n",
       "      <td>0.0</td>\n",
       "      <td>...</td>\n",
       "      <td>3.0</td>\n",
       "      <td>2.0</td>\n",
       "      <td>2.0</td>\n",
       "      <td>4.0</td>\n",
       "      <td>Returning_Visitor</td>\n",
       "      <td>Female</td>\n",
       "      <td>Deny</td>\n",
       "      <td>Others</td>\n",
       "      <td>Married</td>\n",
       "      <td>0.0</td>\n",
       "    </tr>\n",
       "    <tr>\n",
       "      <th>2</th>\n",
       "      <td>0.0</td>\n",
       "      <td>0.0</td>\n",
       "      <td>0.0</td>\n",
       "      <td>0.0</td>\n",
       "      <td>10.0</td>\n",
       "      <td>627.500000</td>\n",
       "      <td>0.02</td>\n",
       "      <td>0.05</td>\n",
       "      <td>0.0</td>\n",
       "      <td>0.0</td>\n",
       "      <td>...</td>\n",
       "      <td>3.0</td>\n",
       "      <td>3.0</td>\n",
       "      <td>1.0</td>\n",
       "      <td>4.0</td>\n",
       "      <td>Returning_Visitor</td>\n",
       "      <td>Female</td>\n",
       "      <td>ALL</td>\n",
       "      <td>Others</td>\n",
       "      <td>Married</td>\n",
       "      <td>1.0</td>\n",
       "    </tr>\n",
       "    <tr>\n",
       "      <th>3</th>\n",
       "      <td>0.0</td>\n",
       "      <td>0.0</td>\n",
       "      <td>0.0</td>\n",
       "      <td>0.0</td>\n",
       "      <td>1.0</td>\n",
       "      <td>0.000000</td>\n",
       "      <td>0.20</td>\n",
       "      <td>0.20</td>\n",
       "      <td>0.0</td>\n",
       "      <td>0.4</td>\n",
       "      <td>...</td>\n",
       "      <td>2.0</td>\n",
       "      <td>4.0</td>\n",
       "      <td>3.0</td>\n",
       "      <td>3.0</td>\n",
       "      <td>Returning_Visitor</td>\n",
       "      <td>Male</td>\n",
       "      <td>ALL</td>\n",
       "      <td>Diploma</td>\n",
       "      <td>Single</td>\n",
       "      <td>0.0</td>\n",
       "    </tr>\n",
       "    <tr>\n",
       "      <th>4</th>\n",
       "      <td>1.0</td>\n",
       "      <td>0.0</td>\n",
       "      <td>0.0</td>\n",
       "      <td>0.0</td>\n",
       "      <td>0.0</td>\n",
       "      <td>0.000000</td>\n",
       "      <td>0.20</td>\n",
       "      <td>0.20</td>\n",
       "      <td>0.0</td>\n",
       "      <td>0.0</td>\n",
       "      <td>...</td>\n",
       "      <td>1.0</td>\n",
       "      <td>2.0</td>\n",
       "      <td>1.0</td>\n",
       "      <td>5.0</td>\n",
       "      <td>Returning_Visitor</td>\n",
       "      <td>Male</td>\n",
       "      <td>Deny</td>\n",
       "      <td>Diploma</td>\n",
       "      <td>Other</td>\n",
       "      <td>1.0</td>\n",
       "    </tr>\n",
       "  </tbody>\n",
       "</table>\n",
       "<p>5 rows × 21 columns</p>\n",
       "</div>"
      ],
      "text/plain": [
       "   HomePage  HomePage_Duration  LandingPage  LandingPage_Duration  \\\n",
       "0       0.0                0.0          0.0                   0.0   \n",
       "1       0.0                0.0          0.0                   0.0   \n",
       "2       0.0                0.0          0.0                   0.0   \n",
       "3       0.0                0.0          0.0                   0.0   \n",
       "4       1.0                0.0          0.0                   0.0   \n",
       "\n",
       "   ProductDescriptionPage  ProductDescriptionPage_Duration  \\\n",
       "0                     1.0                         0.000000   \n",
       "1                     2.0                         2.666667   \n",
       "2                    10.0                       627.500000   \n",
       "3                     1.0                         0.000000   \n",
       "4                     0.0                         0.000000   \n",
       "\n",
       "   GoogleMetric:Bounce Rates  GoogleMetric:Exit Rates  \\\n",
       "0                       0.20                     0.20   \n",
       "1                       0.05                     0.14   \n",
       "2                       0.02                     0.05   \n",
       "3                       0.20                     0.20   \n",
       "4                       0.20                     0.20   \n",
       "\n",
       "   GoogleMetric:Page Values  SeasonalPurchase  ...   OS  SearchEngine  Zone  \\\n",
       "0                       0.0               0.0  ...  4.0           1.0   9.0   \n",
       "1                       0.0               0.0  ...  3.0           2.0   2.0   \n",
       "2                       0.0               0.0  ...  3.0           3.0   1.0   \n",
       "3                       0.0               0.4  ...  2.0           4.0   3.0   \n",
       "4                       0.0               0.0  ...  1.0           2.0   1.0   \n",
       "\n",
       "   Type of Traffic       CustomerType         Gender Cookies Setting  \\\n",
       "0              3.0  Returning_Visitor  Not Specified            Deny   \n",
       "1              4.0  Returning_Visitor         Female            Deny   \n",
       "2              4.0  Returning_Visitor         Female             ALL   \n",
       "3              3.0  Returning_Visitor           Male             ALL   \n",
       "4              5.0  Returning_Visitor           Male            Deny   \n",
       "\n",
       "       Education Marital Status WeekendPurchase  \n",
       "0  Not Specified          Other             0.0  \n",
       "1         Others        Married             0.0  \n",
       "2         Others        Married             1.0  \n",
       "3        Diploma         Single             0.0  \n",
       "4        Diploma          Other             1.0  \n",
       "\n",
       "[5 rows x 21 columns]"
      ]
     },
     "execution_count": 8,
     "metadata": {},
     "output_type": "execute_result"
    }
   ],
   "source": [
    "X_train[:5]\n",
    "#y_train[:5]"
   ]
  },
  {
   "cell_type": "code",
   "execution_count": 9,
   "id": "af89b9c4",
   "metadata": {
    "execution": {
     "iopub.execute_input": "2023-06-25T07:18:12.181809Z",
     "iopub.status.busy": "2023-06-25T07:18:12.181387Z",
     "iopub.status.idle": "2023-06-25T07:18:12.188135Z",
     "shell.execute_reply": "2023-06-25T07:18:12.186864Z"
    },
    "papermill": {
     "duration": 0.022786,
     "end_time": "2023-06-25T07:18:12.190595",
     "exception": false,
     "start_time": "2023-06-25T07:18:12.167809",
     "status": "completed"
    },
    "tags": []
   },
   "outputs": [],
   "source": [
    "num_list=['HomePage',\n",
    " 'HomePage_Duration',\n",
    " 'LandingPage',\n",
    " 'LandingPage_Duration',\n",
    " 'ProductDescriptionPage',\n",
    " 'ProductDescriptionPage_Duration',\n",
    " 'GoogleMetric:Bounce Rates',\n",
    " 'GoogleMetric:Exit Rates',\n",
    " 'GoogleMetric:Page Values',\n",
    " 'SeasonalPurchase',\n",
    " 'OS',\n",
    " 'SearchEngine',\n",
    " 'Zone',\n",
    " 'Type of Traffic']\n",
    "\n",
    "cat_list=  ['Month_SeasonalPurchase',\n",
    " 'CustomerType',\n",
    " 'Gender',\n",
    " 'Cookies Setting',\n",
    " 'Education',\n",
    " 'Marital Status',\n",
    " 'WeekendPurchase']"
   ]
  },
  {
   "cell_type": "markdown",
   "id": "a9f27756",
   "metadata": {
    "papermill": {
     "duration": 0.0116,
     "end_time": "2023-06-25T07:18:12.214587",
     "exception": false,
     "start_time": "2023-06-25T07:18:12.202987",
     "status": "completed"
    },
    "tags": []
   },
   "source": [
    "weekend purchase remain"
   ]
  },
  {
   "cell_type": "code",
   "execution_count": 10,
   "id": "0e68383b",
   "metadata": {
    "execution": {
     "iopub.execute_input": "2023-06-25T07:18:12.240271Z",
     "iopub.status.busy": "2023-06-25T07:18:12.239815Z",
     "iopub.status.idle": "2023-06-25T07:18:12.256228Z",
     "shell.execute_reply": "2023-06-25T07:18:12.254901Z"
    },
    "papermill": {
     "duration": 0.032359,
     "end_time": "2023-06-25T07:18:12.258860",
     "exception": false,
     "start_time": "2023-06-25T07:18:12.226501",
     "status": "completed"
    },
    "tags": []
   },
   "outputs": [],
   "source": [
    "num_data=X_train[num_list].copy()\n",
    "cat_data=X_train[cat_list].copy()\n",
    "num_data1=X_test[num_list].copy()\n",
    "cat_data1=X_test[cat_list].copy()"
   ]
  },
  {
   "cell_type": "code",
   "execution_count": 11,
   "id": "6751afa7",
   "metadata": {
    "execution": {
     "iopub.execute_input": "2023-06-25T07:18:12.285473Z",
     "iopub.status.busy": "2023-06-25T07:18:12.284735Z",
     "iopub.status.idle": "2023-06-25T07:18:12.311195Z",
     "shell.execute_reply": "2023-06-25T07:18:12.310204Z"
    },
    "papermill": {
     "duration": 0.042358,
     "end_time": "2023-06-25T07:18:12.313493",
     "exception": false,
     "start_time": "2023-06-25T07:18:12.271135",
     "status": "completed"
    },
    "tags": []
   },
   "outputs": [
    {
     "data": {
      "text/html": [
       "<div>\n",
       "<style scoped>\n",
       "    .dataframe tbody tr th:only-of-type {\n",
       "        vertical-align: middle;\n",
       "    }\n",
       "\n",
       "    .dataframe tbody tr th {\n",
       "        vertical-align: top;\n",
       "    }\n",
       "\n",
       "    .dataframe thead th {\n",
       "        text-align: right;\n",
       "    }\n",
       "</style>\n",
       "<table border=\"1\" class=\"dataframe\">\n",
       "  <thead>\n",
       "    <tr style=\"text-align: right;\">\n",
       "      <th></th>\n",
       "      <th>HomePage</th>\n",
       "      <th>HomePage_Duration</th>\n",
       "      <th>LandingPage</th>\n",
       "      <th>LandingPage_Duration</th>\n",
       "      <th>ProductDescriptionPage</th>\n",
       "      <th>ProductDescriptionPage_Duration</th>\n",
       "      <th>GoogleMetric:Bounce Rates</th>\n",
       "      <th>GoogleMetric:Exit Rates</th>\n",
       "      <th>GoogleMetric:Page Values</th>\n",
       "      <th>SeasonalPurchase</th>\n",
       "      <th>OS</th>\n",
       "      <th>SearchEngine</th>\n",
       "      <th>Zone</th>\n",
       "      <th>Type of Traffic</th>\n",
       "    </tr>\n",
       "  </thead>\n",
       "  <tbody>\n",
       "    <tr>\n",
       "      <th>0</th>\n",
       "      <td>0.0</td>\n",
       "      <td>0.0</td>\n",
       "      <td>0.0</td>\n",
       "      <td>0.0</td>\n",
       "      <td>1.0</td>\n",
       "      <td>0.000000</td>\n",
       "      <td>0.20</td>\n",
       "      <td>0.20</td>\n",
       "      <td>0.0</td>\n",
       "      <td>0.0</td>\n",
       "      <td>4.0</td>\n",
       "      <td>1.0</td>\n",
       "      <td>9.0</td>\n",
       "      <td>3.0</td>\n",
       "    </tr>\n",
       "    <tr>\n",
       "      <th>1</th>\n",
       "      <td>0.0</td>\n",
       "      <td>0.0</td>\n",
       "      <td>0.0</td>\n",
       "      <td>0.0</td>\n",
       "      <td>2.0</td>\n",
       "      <td>2.666667</td>\n",
       "      <td>0.05</td>\n",
       "      <td>0.14</td>\n",
       "      <td>0.0</td>\n",
       "      <td>0.0</td>\n",
       "      <td>3.0</td>\n",
       "      <td>2.0</td>\n",
       "      <td>2.0</td>\n",
       "      <td>4.0</td>\n",
       "    </tr>\n",
       "    <tr>\n",
       "      <th>2</th>\n",
       "      <td>0.0</td>\n",
       "      <td>0.0</td>\n",
       "      <td>0.0</td>\n",
       "      <td>0.0</td>\n",
       "      <td>10.0</td>\n",
       "      <td>627.500000</td>\n",
       "      <td>0.02</td>\n",
       "      <td>0.05</td>\n",
       "      <td>0.0</td>\n",
       "      <td>0.0</td>\n",
       "      <td>3.0</td>\n",
       "      <td>3.0</td>\n",
       "      <td>1.0</td>\n",
       "      <td>4.0</td>\n",
       "    </tr>\n",
       "    <tr>\n",
       "      <th>3</th>\n",
       "      <td>0.0</td>\n",
       "      <td>0.0</td>\n",
       "      <td>0.0</td>\n",
       "      <td>0.0</td>\n",
       "      <td>1.0</td>\n",
       "      <td>0.000000</td>\n",
       "      <td>0.20</td>\n",
       "      <td>0.20</td>\n",
       "      <td>0.0</td>\n",
       "      <td>0.4</td>\n",
       "      <td>2.0</td>\n",
       "      <td>4.0</td>\n",
       "      <td>3.0</td>\n",
       "      <td>3.0</td>\n",
       "    </tr>\n",
       "    <tr>\n",
       "      <th>4</th>\n",
       "      <td>1.0</td>\n",
       "      <td>0.0</td>\n",
       "      <td>0.0</td>\n",
       "      <td>0.0</td>\n",
       "      <td>0.0</td>\n",
       "      <td>0.000000</td>\n",
       "      <td>0.20</td>\n",
       "      <td>0.20</td>\n",
       "      <td>0.0</td>\n",
       "      <td>0.0</td>\n",
       "      <td>1.0</td>\n",
       "      <td>2.0</td>\n",
       "      <td>1.0</td>\n",
       "      <td>5.0</td>\n",
       "    </tr>\n",
       "  </tbody>\n",
       "</table>\n",
       "</div>"
      ],
      "text/plain": [
       "   HomePage  HomePage_Duration  LandingPage  LandingPage_Duration  \\\n",
       "0       0.0                0.0          0.0                   0.0   \n",
       "1       0.0                0.0          0.0                   0.0   \n",
       "2       0.0                0.0          0.0                   0.0   \n",
       "3       0.0                0.0          0.0                   0.0   \n",
       "4       1.0                0.0          0.0                   0.0   \n",
       "\n",
       "   ProductDescriptionPage  ProductDescriptionPage_Duration  \\\n",
       "0                     1.0                         0.000000   \n",
       "1                     2.0                         2.666667   \n",
       "2                    10.0                       627.500000   \n",
       "3                     1.0                         0.000000   \n",
       "4                     0.0                         0.000000   \n",
       "\n",
       "   GoogleMetric:Bounce Rates  GoogleMetric:Exit Rates  \\\n",
       "0                       0.20                     0.20   \n",
       "1                       0.05                     0.14   \n",
       "2                       0.02                     0.05   \n",
       "3                       0.20                     0.20   \n",
       "4                       0.20                     0.20   \n",
       "\n",
       "   GoogleMetric:Page Values  SeasonalPurchase   OS  SearchEngine  Zone  \\\n",
       "0                       0.0               0.0  4.0           1.0   9.0   \n",
       "1                       0.0               0.0  3.0           2.0   2.0   \n",
       "2                       0.0               0.0  3.0           3.0   1.0   \n",
       "3                       0.0               0.4  2.0           4.0   3.0   \n",
       "4                       0.0               0.0  1.0           2.0   1.0   \n",
       "\n",
       "   Type of Traffic  \n",
       "0              3.0  \n",
       "1              4.0  \n",
       "2              4.0  \n",
       "3              3.0  \n",
       "4              5.0  "
      ]
     },
     "execution_count": 11,
     "metadata": {},
     "output_type": "execute_result"
    }
   ],
   "source": [
    "num_data[:5]"
   ]
  },
  {
   "cell_type": "markdown",
   "id": "a559cb24",
   "metadata": {
    "papermill": {
     "duration": 0.011836,
     "end_time": "2023-06-25T07:18:12.338224",
     "exception": false,
     "start_time": "2023-06-25T07:18:12.326388",
     "status": "completed"
    },
    "tags": []
   },
   "source": [
    "Check unique categorical values, null values"
   ]
  },
  {
   "cell_type": "code",
   "execution_count": 12,
   "id": "146ea5ea",
   "metadata": {
    "execution": {
     "iopub.execute_input": "2023-06-25T07:18:12.365477Z",
     "iopub.status.busy": "2023-06-25T07:18:12.364299Z",
     "iopub.status.idle": "2023-06-25T07:18:12.388064Z",
     "shell.execute_reply": "2023-06-25T07:18:12.386761Z"
    },
    "papermill": {
     "duration": 0.040121,
     "end_time": "2023-06-25T07:18:12.390841",
     "exception": false,
     "start_time": "2023-06-25T07:18:12.350720",
     "status": "completed"
    },
    "tags": []
   },
   "outputs": [
    {
     "name": "stdout",
     "output_type": "stream",
     "text": [
      "['Feb' 'Mar' 'May' 'Oct' 'June' 'Jul' 'Aug' 'Nov' 'Sep' 'Dec' nan]\n",
      "['Returning_Visitor' 'New_Visitor' 'Other' nan]\n",
      "['Not Specified' 'Female' 'Male' nan]\n",
      "['Deny' 'ALL' 'Required' nan]\n",
      "['Not Specified' 'Others' 'Diploma' 'Graduate' nan]\n",
      "['Other' 'Married' 'Single' nan]\n",
      "[ 0.  1. nan]\n"
     ]
    }
   ],
   "source": [
    "print(cat_data['Month_SeasonalPurchase'].unique())\n",
    "print(cat_data['CustomerType'].unique())\n",
    "print(cat_data['Gender'].unique())\n",
    "print(cat_data['Cookies Setting'].unique())\n",
    "print(cat_data['Education'].unique())\n",
    "print(cat_data['Marital Status'].unique())\n",
    "print(cat_data['WeekendPurchase'].unique())"
   ]
  },
  {
   "cell_type": "code",
   "execution_count": 13,
   "id": "2151b218",
   "metadata": {
    "execution": {
     "iopub.execute_input": "2023-06-25T07:18:12.417443Z",
     "iopub.status.busy": "2023-06-25T07:18:12.417025Z",
     "iopub.status.idle": "2023-06-25T07:18:12.426030Z",
     "shell.execute_reply": "2023-06-25T07:18:12.424924Z"
    },
    "papermill": {
     "duration": 0.025068,
     "end_time": "2023-06-25T07:18:12.428339",
     "exception": false,
     "start_time": "2023-06-25T07:18:12.403271",
     "status": "completed"
    },
    "tags": []
   },
   "outputs": [
    {
     "data": {
      "text/plain": [
       "False    9065\n",
       "True     5666\n",
       "Name: Made_Purchase, dtype: int64"
      ]
     },
     "execution_count": 13,
     "metadata": {},
     "output_type": "execute_result"
    }
   ],
   "source": [
    "y_train.value_counts()"
   ]
  },
  {
   "cell_type": "code",
   "execution_count": 14,
   "id": "f938cf25",
   "metadata": {
    "execution": {
     "iopub.execute_input": "2023-06-25T07:18:12.455156Z",
     "iopub.status.busy": "2023-06-25T07:18:12.454707Z",
     "iopub.status.idle": "2023-06-25T07:18:12.744836Z",
     "shell.execute_reply": "2023-06-25T07:18:12.743384Z"
    },
    "papermill": {
     "duration": 0.306926,
     "end_time": "2023-06-25T07:18:12.747832",
     "exception": false,
     "start_time": "2023-06-25T07:18:12.440906",
     "status": "completed"
    },
    "tags": []
   },
   "outputs": [],
   "source": [
    "from sklearn.impute import  SimpleImputer\n",
    "from sklearn.preprocessing import LabelEncoder\n",
    "from sklearn.preprocessing import StandardScaler\n",
    "from sklearn.linear_model import SGDClassifier"
   ]
  },
  {
   "cell_type": "code",
   "execution_count": 15,
   "id": "53cc3f1c",
   "metadata": {
    "execution": {
     "iopub.execute_input": "2023-06-25T07:18:12.775269Z",
     "iopub.status.busy": "2023-06-25T07:18:12.774816Z",
     "iopub.status.idle": "2023-06-25T07:18:12.783419Z",
     "shell.execute_reply": "2023-06-25T07:18:12.782339Z"
    },
    "papermill": {
     "duration": 0.025247,
     "end_time": "2023-06-25T07:18:12.786019",
     "exception": false,
     "start_time": "2023-06-25T07:18:12.760772",
     "status": "completed"
    },
    "tags": []
   },
   "outputs": [],
   "source": [
    "from sklearn.pipeline import Pipeline\n",
    "pipe=Pipeline([('imputer', SimpleImputer(strategy='mean')),('scaler',StandardScaler(with_mean=True, with_std=True))])\n"
   ]
  },
  {
   "cell_type": "code",
   "execution_count": 16,
   "id": "686c9d74",
   "metadata": {
    "execution": {
     "iopub.execute_input": "2023-06-25T07:18:12.813987Z",
     "iopub.status.busy": "2023-06-25T07:18:12.813571Z",
     "iopub.status.idle": "2023-06-25T07:18:12.829220Z",
     "shell.execute_reply": "2023-06-25T07:18:12.828145Z"
    },
    "papermill": {
     "duration": 0.032607,
     "end_time": "2023-06-25T07:18:12.831759",
     "exception": false,
     "start_time": "2023-06-25T07:18:12.799152",
     "status": "completed"
    },
    "tags": []
   },
   "outputs": [
    {
     "data": {
      "text/html": [
       "<div>\n",
       "<style scoped>\n",
       "    .dataframe tbody tr th:only-of-type {\n",
       "        vertical-align: middle;\n",
       "    }\n",
       "\n",
       "    .dataframe tbody tr th {\n",
       "        vertical-align: top;\n",
       "    }\n",
       "\n",
       "    .dataframe thead th {\n",
       "        text-align: right;\n",
       "    }\n",
       "</style>\n",
       "<table border=\"1\" class=\"dataframe\">\n",
       "  <thead>\n",
       "    <tr style=\"text-align: right;\">\n",
       "      <th></th>\n",
       "      <th>Month_SeasonalPurchase</th>\n",
       "      <th>CustomerType</th>\n",
       "      <th>Gender</th>\n",
       "      <th>Cookies Setting</th>\n",
       "      <th>Education</th>\n",
       "      <th>Marital Status</th>\n",
       "      <th>WeekendPurchase</th>\n",
       "    </tr>\n",
       "  </thead>\n",
       "  <tbody>\n",
       "    <tr>\n",
       "      <th>0</th>\n",
       "      <td>Feb</td>\n",
       "      <td>Returning_Visitor</td>\n",
       "      <td>Not Specified</td>\n",
       "      <td>Deny</td>\n",
       "      <td>Not Specified</td>\n",
       "      <td>Other</td>\n",
       "      <td>0.0</td>\n",
       "    </tr>\n",
       "    <tr>\n",
       "      <th>1</th>\n",
       "      <td>Feb</td>\n",
       "      <td>Returning_Visitor</td>\n",
       "      <td>Female</td>\n",
       "      <td>Deny</td>\n",
       "      <td>Others</td>\n",
       "      <td>Married</td>\n",
       "      <td>0.0</td>\n",
       "    </tr>\n",
       "    <tr>\n",
       "      <th>2</th>\n",
       "      <td>Feb</td>\n",
       "      <td>Returning_Visitor</td>\n",
       "      <td>Female</td>\n",
       "      <td>ALL</td>\n",
       "      <td>Others</td>\n",
       "      <td>Married</td>\n",
       "      <td>1.0</td>\n",
       "    </tr>\n",
       "    <tr>\n",
       "      <th>3</th>\n",
       "      <td>Feb</td>\n",
       "      <td>Returning_Visitor</td>\n",
       "      <td>Male</td>\n",
       "      <td>ALL</td>\n",
       "      <td>Diploma</td>\n",
       "      <td>Single</td>\n",
       "      <td>0.0</td>\n",
       "    </tr>\n",
       "    <tr>\n",
       "      <th>4</th>\n",
       "      <td>Feb</td>\n",
       "      <td>Returning_Visitor</td>\n",
       "      <td>Male</td>\n",
       "      <td>Deny</td>\n",
       "      <td>Diploma</td>\n",
       "      <td>Other</td>\n",
       "      <td>1.0</td>\n",
       "    </tr>\n",
       "  </tbody>\n",
       "</table>\n",
       "</div>"
      ],
      "text/plain": [
       "  Month_SeasonalPurchase       CustomerType         Gender Cookies Setting  \\\n",
       "0                    Feb  Returning_Visitor  Not Specified            Deny   \n",
       "1                    Feb  Returning_Visitor         Female            Deny   \n",
       "2                    Feb  Returning_Visitor         Female             ALL   \n",
       "3                    Feb  Returning_Visitor           Male             ALL   \n",
       "4                    Feb  Returning_Visitor           Male            Deny   \n",
       "\n",
       "       Education Marital Status  WeekendPurchase  \n",
       "0  Not Specified          Other              0.0  \n",
       "1         Others        Married              0.0  \n",
       "2         Others        Married              1.0  \n",
       "3        Diploma         Single              0.0  \n",
       "4        Diploma          Other              1.0  "
      ]
     },
     "execution_count": 16,
     "metadata": {},
     "output_type": "execute_result"
    }
   ],
   "source": [
    "cat_data[:5]"
   ]
  },
  {
   "cell_type": "markdown",
   "id": "7ae4a721",
   "metadata": {
    "papermill": {
     "duration": 0.012978,
     "end_time": "2023-06-25T07:18:12.857933",
     "exception": false,
     "start_time": "2023-06-25T07:18:12.844955",
     "status": "completed"
    },
    "tags": []
   },
   "source": [
    "LabelEncoder for categorical variables"
   ]
  },
  {
   "cell_type": "code",
   "execution_count": 17,
   "id": "5e6b967a",
   "metadata": {
    "execution": {
     "iopub.execute_input": "2023-06-25T07:18:12.886339Z",
     "iopub.status.busy": "2023-06-25T07:18:12.885910Z",
     "iopub.status.idle": "2023-06-25T07:18:12.959466Z",
     "shell.execute_reply": "2023-06-25T07:18:12.958312Z"
    },
    "papermill": {
     "duration": 0.090967,
     "end_time": "2023-06-25T07:18:12.962123",
     "exception": false,
     "start_time": "2023-06-25T07:18:12.871156",
     "status": "completed"
    },
    "tags": []
   },
   "outputs": [
    {
     "name": "stdout",
     "output_type": "stream",
     "text": [
      "   Month_SeasonalPurchase  CustomerType  Gender  Cookies Setting  Education  \\\n",
      "0                       2             2       2                1          2   \n",
      "1                       2             2       0                1          3   \n",
      "\n",
      "   Marital Status  WeekendPurchase  \n",
      "0               1              0.0  \n",
      "1               0              0.0  \n",
      "   Month_SeasonalPurchase  CustomerType  Gender  Cookies Setting  Education  \\\n",
      "0                       2             2       2                1          2   \n",
      "1                       2             2       2                0          1   \n",
      "\n",
      "   Marital Status  WeekendPurchase  \n",
      "0               2              0.0  \n",
      "1               0              0.0  \n"
     ]
    }
   ],
   "source": [
    "from sklearn.preprocessing import LabelEncoder\n",
    "encoder=LabelEncoder()\n",
    "#for train data\n",
    "cat_data['Month_SeasonalPurchase']=encoder.fit_transform(cat_data['Month_SeasonalPurchase'])\n",
    "cat_data['CustomerType']=encoder.fit_transform(cat_data['CustomerType'])\n",
    "cat_data['Gender']=encoder.fit_transform(cat_data['Gender'])\n",
    "cat_data['Cookies Setting']=encoder.fit_transform(cat_data['Cookies Setting'])\n",
    "cat_data['Education']=encoder.fit_transform(cat_data['Education'])\n",
    "cat_data['Marital Status']=encoder.fit_transform(cat_data['Marital Status'])\n",
    "print(cat_data[:2])\n",
    "#for test data\n",
    "cat_data1['Month_SeasonalPurchase']=encoder.fit_transform(cat_data1['Month_SeasonalPurchase'])\n",
    "cat_data1['CustomerType']=encoder.fit_transform(cat_data1['CustomerType'])\n",
    "cat_data1['Gender']=encoder.fit_transform(cat_data1['Gender'])\n",
    "cat_data1['Cookies Setting']=encoder.fit_transform(cat_data1['Cookies Setting'])\n",
    "cat_data1['Education']=encoder.fit_transform(cat_data1['Education'])\n",
    "cat_data1['Marital Status']=encoder.fit_transform(cat_data1['Marital Status'])\n",
    "print(cat_data1[:2])"
   ]
  },
  {
   "cell_type": "code",
   "execution_count": 18,
   "id": "baa99cd4",
   "metadata": {
    "execution": {
     "iopub.execute_input": "2023-06-25T07:18:12.990834Z",
     "iopub.status.busy": "2023-06-25T07:18:12.990401Z",
     "iopub.status.idle": "2023-06-25T07:18:13.024647Z",
     "shell.execute_reply": "2023-06-25T07:18:13.023474Z"
    },
    "papermill": {
     "duration": 0.05189,
     "end_time": "2023-06-25T07:18:13.027048",
     "exception": false,
     "start_time": "2023-06-25T07:18:12.975158",
     "status": "completed"
    },
    "tags": []
   },
   "outputs": [
    {
     "data": {
      "text/html": [
       "<div>\n",
       "<style scoped>\n",
       "    .dataframe tbody tr th:only-of-type {\n",
       "        vertical-align: middle;\n",
       "    }\n",
       "\n",
       "    .dataframe tbody tr th {\n",
       "        vertical-align: top;\n",
       "    }\n",
       "\n",
       "    .dataframe thead th {\n",
       "        text-align: right;\n",
       "    }\n",
       "</style>\n",
       "<table border=\"1\" class=\"dataframe\">\n",
       "  <thead>\n",
       "    <tr style=\"text-align: right;\">\n",
       "      <th></th>\n",
       "      <th>Month_SeasonalPurchase</th>\n",
       "      <th>CustomerType</th>\n",
       "      <th>Gender</th>\n",
       "      <th>Cookies Setting</th>\n",
       "      <th>Education</th>\n",
       "      <th>Marital Status</th>\n",
       "      <th>WeekendPurchase</th>\n",
       "    </tr>\n",
       "  </thead>\n",
       "  <tbody>\n",
       "    <tr>\n",
       "      <th>0</th>\n",
       "      <td>-1.320981</td>\n",
       "      <td>0.374272</td>\n",
       "      <td>1.151574</td>\n",
       "      <td>-0.022757</td>\n",
       "      <td>0.409839</td>\n",
       "      <td>1.189817</td>\n",
       "      <td>-0.545771</td>\n",
       "    </tr>\n",
       "    <tr>\n",
       "      <th>1</th>\n",
       "      <td>-1.320981</td>\n",
       "      <td>0.374272</td>\n",
       "      <td>1.151574</td>\n",
       "      <td>-1.214598</td>\n",
       "      <td>-0.467116</td>\n",
       "      <td>-1.227177</td>\n",
       "      <td>-0.545771</td>\n",
       "    </tr>\n",
       "    <tr>\n",
       "      <th>2</th>\n",
       "      <td>-1.320981</td>\n",
       "      <td>0.374272</td>\n",
       "      <td>-1.240003</td>\n",
       "      <td>1.169085</td>\n",
       "      <td>-1.344071</td>\n",
       "      <td>-0.018680</td>\n",
       "      <td>-0.545771</td>\n",
       "    </tr>\n",
       "  </tbody>\n",
       "</table>\n",
       "</div>"
      ],
      "text/plain": [
       "   Month_SeasonalPurchase  CustomerType    Gender  Cookies Setting  Education  \\\n",
       "0               -1.320981      0.374272  1.151574        -0.022757   0.409839   \n",
       "1               -1.320981      0.374272  1.151574        -1.214598  -0.467116   \n",
       "2               -1.320981      0.374272 -1.240003         1.169085  -1.344071   \n",
       "\n",
       "   Marital Status  WeekendPurchase  \n",
       "0        1.189817        -0.545771  \n",
       "1       -1.227177        -0.545771  \n",
       "2       -0.018680        -0.545771  "
      ]
     },
     "execution_count": 18,
     "metadata": {},
     "output_type": "execute_result"
    }
   ],
   "source": [
    "cat_data=pipe.fit_transform(cat_data)\n",
    "cat_data=pd.DataFrame(cat_data,columns=cat_list)\n",
    "\n",
    "cat_data1=pipe.fit_transform(cat_data1)\n",
    "cat_data1=pd.DataFrame(cat_data1,columns=cat_list)\n",
    "cat_data1[:3]"
   ]
  },
  {
   "cell_type": "code",
   "execution_count": 19,
   "id": "83dd70e9",
   "metadata": {
    "execution": {
     "iopub.execute_input": "2023-06-25T07:18:13.055266Z",
     "iopub.status.busy": "2023-06-25T07:18:13.054842Z",
     "iopub.status.idle": "2023-06-25T07:18:13.094443Z",
     "shell.execute_reply": "2023-06-25T07:18:13.093203Z"
    },
    "papermill": {
     "duration": 0.056539,
     "end_time": "2023-06-25T07:18:13.096887",
     "exception": false,
     "start_time": "2023-06-25T07:18:13.040348",
     "status": "completed"
    },
    "tags": []
   },
   "outputs": [
    {
     "data": {
      "text/html": [
       "<div>\n",
       "<style scoped>\n",
       "    .dataframe tbody tr th:only-of-type {\n",
       "        vertical-align: middle;\n",
       "    }\n",
       "\n",
       "    .dataframe tbody tr th {\n",
       "        vertical-align: top;\n",
       "    }\n",
       "\n",
       "    .dataframe thead th {\n",
       "        text-align: right;\n",
       "    }\n",
       "</style>\n",
       "<table border=\"1\" class=\"dataframe\">\n",
       "  <thead>\n",
       "    <tr style=\"text-align: right;\">\n",
       "      <th></th>\n",
       "      <th>HomePage</th>\n",
       "      <th>HomePage_Duration</th>\n",
       "      <th>LandingPage</th>\n",
       "      <th>LandingPage_Duration</th>\n",
       "      <th>ProductDescriptionPage</th>\n",
       "      <th>ProductDescriptionPage_Duration</th>\n",
       "      <th>GoogleMetric:Bounce Rates</th>\n",
       "      <th>GoogleMetric:Exit Rates</th>\n",
       "      <th>GoogleMetric:Page Values</th>\n",
       "      <th>SeasonalPurchase</th>\n",
       "      <th>OS</th>\n",
       "      <th>SearchEngine</th>\n",
       "      <th>Zone</th>\n",
       "      <th>Type of Traffic</th>\n",
       "    </tr>\n",
       "  </thead>\n",
       "  <tbody>\n",
       "    <tr>\n",
       "      <th>0</th>\n",
       "      <td>-0.685225</td>\n",
       "      <td>-0.458404</td>\n",
       "      <td>-0.390466</td>\n",
       "      <td>-0.245754</td>\n",
       "      <td>-0.686179</td>\n",
       "      <td>-0.603393</td>\n",
       "      <td>3.690372</td>\n",
       "      <td>3.245874</td>\n",
       "      <td>-0.283489</td>\n",
       "      <td>-0.318347</td>\n",
       "      <td>-1.253061</td>\n",
       "      <td>-0.792305</td>\n",
       "      <td>-0.91083</td>\n",
       "      <td>-0.759229</td>\n",
       "    </tr>\n",
       "    <tr>\n",
       "      <th>1</th>\n",
       "      <td>-0.685225</td>\n",
       "      <td>-0.458404</td>\n",
       "      <td>-0.390466</td>\n",
       "      <td>-0.245754</td>\n",
       "      <td>-0.663108</td>\n",
       "      <td>-0.569848</td>\n",
       "      <td>-0.465268</td>\n",
       "      <td>1.166859</td>\n",
       "      <td>-0.283489</td>\n",
       "      <td>-0.318347</td>\n",
       "      <td>-0.148075</td>\n",
       "      <td>-0.208760</td>\n",
       "      <td>-0.91083</td>\n",
       "      <td>-0.509643</td>\n",
       "    </tr>\n",
       "    <tr>\n",
       "      <th>2</th>\n",
       "      <td>-0.685225</td>\n",
       "      <td>-0.458404</td>\n",
       "      <td>-0.390466</td>\n",
       "      <td>-0.245754</td>\n",
       "      <td>-0.270902</td>\n",
       "      <td>-0.522563</td>\n",
       "      <td>-0.137191</td>\n",
       "      <td>-0.401520</td>\n",
       "      <td>-0.283489</td>\n",
       "      <td>-0.318347</td>\n",
       "      <td>-0.148075</td>\n",
       "      <td>-0.208760</td>\n",
       "      <td>-0.91083</td>\n",
       "      <td>-0.260057</td>\n",
       "    </tr>\n",
       "  </tbody>\n",
       "</table>\n",
       "</div>"
      ],
      "text/plain": [
       "   HomePage  HomePage_Duration  LandingPage  LandingPage_Duration  \\\n",
       "0 -0.685225          -0.458404    -0.390466             -0.245754   \n",
       "1 -0.685225          -0.458404    -0.390466             -0.245754   \n",
       "2 -0.685225          -0.458404    -0.390466             -0.245754   \n",
       "\n",
       "   ProductDescriptionPage  ProductDescriptionPage_Duration  \\\n",
       "0               -0.686179                        -0.603393   \n",
       "1               -0.663108                        -0.569848   \n",
       "2               -0.270902                        -0.522563   \n",
       "\n",
       "   GoogleMetric:Bounce Rates  GoogleMetric:Exit Rates  \\\n",
       "0                   3.690372                 3.245874   \n",
       "1                  -0.465268                 1.166859   \n",
       "2                  -0.137191                -0.401520   \n",
       "\n",
       "   GoogleMetric:Page Values  SeasonalPurchase        OS  SearchEngine  \\\n",
       "0                 -0.283489         -0.318347 -1.253061     -0.792305   \n",
       "1                 -0.283489         -0.318347 -0.148075     -0.208760   \n",
       "2                 -0.283489         -0.318347 -0.148075     -0.208760   \n",
       "\n",
       "      Zone  Type of Traffic  \n",
       "0 -0.91083        -0.759229  \n",
       "1 -0.91083        -0.509643  \n",
       "2 -0.91083        -0.260057  "
      ]
     },
     "execution_count": 19,
     "metadata": {},
     "output_type": "execute_result"
    }
   ],
   "source": [
    "num_data=pipe.fit_transform(num_data)\n",
    "num_data=pd.DataFrame(num_data,columns=num_list)\n",
    "\n",
    "num_data1=pipe.fit_transform(num_data1)\n",
    "num_data1=pd.DataFrame(num_data1,columns=num_list)\n",
    "num_data1[:3]"
   ]
  },
  {
   "cell_type": "code",
   "execution_count": 20,
   "id": "a82d6178",
   "metadata": {
    "execution": {
     "iopub.execute_input": "2023-06-25T07:18:13.125880Z",
     "iopub.status.busy": "2023-06-25T07:18:13.125435Z",
     "iopub.status.idle": "2023-06-25T07:18:13.139393Z",
     "shell.execute_reply": "2023-06-25T07:18:13.137993Z"
    },
    "papermill": {
     "duration": 0.031529,
     "end_time": "2023-06-25T07:18:13.141842",
     "exception": false,
     "start_time": "2023-06-25T07:18:13.110313",
     "status": "completed"
    },
    "tags": []
   },
   "outputs": [
    {
     "name": "stdout",
     "output_type": "stream",
     "text": [
      "Month_SeasonalPurchase    0\n",
      "CustomerType              0\n",
      "Gender                    0\n",
      "Cookies Setting           0\n",
      "Education                 0\n",
      "Marital Status            0\n",
      "WeekendPurchase           0\n",
      "dtype: int64\n",
      "HomePage                           0\n",
      "HomePage_Duration                  0\n",
      "LandingPage                        0\n",
      "LandingPage_Duration               0\n",
      "ProductDescriptionPage             0\n",
      "ProductDescriptionPage_Duration    0\n",
      "GoogleMetric:Bounce Rates          0\n",
      "GoogleMetric:Exit Rates            0\n",
      "GoogleMetric:Page Values           0\n",
      "SeasonalPurchase                   0\n",
      "OS                                 0\n",
      "SearchEngine                       0\n",
      "Zone                               0\n",
      "Type of Traffic                    0\n",
      "dtype: int64\n",
      "Month_SeasonalPurchase    0\n",
      "CustomerType              0\n",
      "Gender                    0\n",
      "Cookies Setting           0\n",
      "Education                 0\n",
      "Marital Status            0\n",
      "WeekendPurchase           0\n",
      "dtype: int64\n",
      "HomePage                           0\n",
      "HomePage_Duration                  0\n",
      "LandingPage                        0\n",
      "LandingPage_Duration               0\n",
      "ProductDescriptionPage             0\n",
      "ProductDescriptionPage_Duration    0\n",
      "GoogleMetric:Bounce Rates          0\n",
      "GoogleMetric:Exit Rates            0\n",
      "GoogleMetric:Page Values           0\n",
      "SeasonalPurchase                   0\n",
      "OS                                 0\n",
      "SearchEngine                       0\n",
      "Zone                               0\n",
      "Type of Traffic                    0\n",
      "dtype: int64\n"
     ]
    }
   ],
   "source": [
    "print(cat_data.isna().sum())\n",
    "print(num_data.isna().sum())\n",
    "\n",
    "print(cat_data1.isna().sum())\n",
    "print(num_data1.isna().sum())"
   ]
  },
  {
   "cell_type": "markdown",
   "id": "adcda1aa",
   "metadata": {
    "papermill": {
     "duration": 0.013364,
     "end_time": "2023-06-25T07:18:13.168972",
     "exception": false,
     "start_time": "2023-06-25T07:18:13.155608",
     "status": "completed"
    },
    "tags": []
   },
   "source": [
    "null values from train and test set replaced with mean, std scaler applied"
   ]
  },
  {
   "cell_type": "markdown",
   "id": "f02f03a8",
   "metadata": {
    "papermill": {
     "duration": 0.013217,
     "end_time": "2023-06-25T07:18:13.195962",
     "exception": false,
     "start_time": "2023-06-25T07:18:13.182745",
     "status": "completed"
    },
    "tags": []
   },
   "source": [
    "Creating a new dataframe X_train with num_data and cat_data"
   ]
  },
  {
   "cell_type": "code",
   "execution_count": 21,
   "id": "611839e7",
   "metadata": {
    "execution": {
     "iopub.execute_input": "2023-06-25T07:18:13.225417Z",
     "iopub.status.busy": "2023-06-25T07:18:13.224983Z",
     "iopub.status.idle": "2023-06-25T07:18:13.270737Z",
     "shell.execute_reply": "2023-06-25T07:18:13.269465Z"
    },
    "papermill": {
     "duration": 0.063869,
     "end_time": "2023-06-25T07:18:13.273546",
     "exception": false,
     "start_time": "2023-06-25T07:18:13.209677",
     "status": "completed"
    },
    "tags": []
   },
   "outputs": [
    {
     "data": {
      "text/html": [
       "<div>\n",
       "<style scoped>\n",
       "    .dataframe tbody tr th:only-of-type {\n",
       "        vertical-align: middle;\n",
       "    }\n",
       "\n",
       "    .dataframe tbody tr th {\n",
       "        vertical-align: top;\n",
       "    }\n",
       "\n",
       "    .dataframe thead th {\n",
       "        text-align: right;\n",
       "    }\n",
       "</style>\n",
       "<table border=\"1\" class=\"dataframe\">\n",
       "  <thead>\n",
       "    <tr style=\"text-align: right;\">\n",
       "      <th></th>\n",
       "      <th>HomePage</th>\n",
       "      <th>HomePage_Duration</th>\n",
       "      <th>LandingPage</th>\n",
       "      <th>LandingPage_Duration</th>\n",
       "      <th>ProductDescriptionPage</th>\n",
       "      <th>ProductDescriptionPage_Duration</th>\n",
       "      <th>GoogleMetric:Bounce Rates</th>\n",
       "      <th>GoogleMetric:Exit Rates</th>\n",
       "      <th>GoogleMetric:Page Values</th>\n",
       "      <th>SeasonalPurchase</th>\n",
       "      <th>...</th>\n",
       "      <th>SearchEngine</th>\n",
       "      <th>Zone</th>\n",
       "      <th>Type of Traffic</th>\n",
       "      <th>Month_SeasonalPurchase</th>\n",
       "      <th>CustomerType</th>\n",
       "      <th>Gender</th>\n",
       "      <th>Cookies Setting</th>\n",
       "      <th>Education</th>\n",
       "      <th>Marital Status</th>\n",
       "      <th>WeekendPurchase</th>\n",
       "    </tr>\n",
       "  </thead>\n",
       "  <tbody>\n",
       "    <tr>\n",
       "      <th>0</th>\n",
       "      <td>-0.687976</td>\n",
       "      <td>-0.444379</td>\n",
       "      <td>-0.393911</td>\n",
       "      <td>-0.239831</td>\n",
       "      <td>-0.683539</td>\n",
       "      <td>-0.592764</td>\n",
       "      <td>3.550300</td>\n",
       "      <td>3.125999</td>\n",
       "      <td>-0.286279</td>\n",
       "      <td>-0.317966</td>\n",
       "      <td>...</td>\n",
       "      <td>-0.791213</td>\n",
       "      <td>2.439708</td>\n",
       "      <td>-0.271156</td>\n",
       "      <td>-1.343956</td>\n",
       "      <td>0.37689</td>\n",
       "      <td>1.157060</td>\n",
       "      <td>-0.032569</td>\n",
       "      <td>0.415653</td>\n",
       "      <td>-0.036710</td>\n",
       "      <td>-0.555229</td>\n",
       "    </tr>\n",
       "    <tr>\n",
       "      <th>1</th>\n",
       "      <td>-0.687976</td>\n",
       "      <td>-0.444379</td>\n",
       "      <td>-0.393911</td>\n",
       "      <td>-0.239831</td>\n",
       "      <td>-0.661172</td>\n",
       "      <td>-0.591430</td>\n",
       "      <td>0.535338</td>\n",
       "      <td>1.918551</td>\n",
       "      <td>-0.286279</td>\n",
       "      <td>-0.317966</td>\n",
       "      <td>...</td>\n",
       "      <td>-0.207993</td>\n",
       "      <td>-0.482434</td>\n",
       "      <td>-0.022422</td>\n",
       "      <td>-1.343956</td>\n",
       "      <td>0.37689</td>\n",
       "      <td>-1.226974</td>\n",
       "      <td>-0.032569</td>\n",
       "      <td>1.290491</td>\n",
       "      <td>-1.241106</td>\n",
       "      <td>-0.555229</td>\n",
       "    </tr>\n",
       "    <tr>\n",
       "      <th>2</th>\n",
       "      <td>-0.687976</td>\n",
       "      <td>-0.444379</td>\n",
       "      <td>-0.393911</td>\n",
       "      <td>-0.239831</td>\n",
       "      <td>-0.482232</td>\n",
       "      <td>-0.278701</td>\n",
       "      <td>-0.067655</td>\n",
       "      <td>0.107380</td>\n",
       "      <td>-0.286279</td>\n",
       "      <td>-0.317966</td>\n",
       "      <td>...</td>\n",
       "      <td>0.375226</td>\n",
       "      <td>-0.899883</td>\n",
       "      <td>-0.022422</td>\n",
       "      <td>-1.343956</td>\n",
       "      <td>0.37689</td>\n",
       "      <td>-1.226974</td>\n",
       "      <td>-1.235021</td>\n",
       "      <td>1.290491</td>\n",
       "      <td>-1.241106</td>\n",
       "      <td>1.815976</td>\n",
       "    </tr>\n",
       "    <tr>\n",
       "      <th>3</th>\n",
       "      <td>-0.687976</td>\n",
       "      <td>-0.444379</td>\n",
       "      <td>-0.393911</td>\n",
       "      <td>-0.239831</td>\n",
       "      <td>-0.683539</td>\n",
       "      <td>-0.592764</td>\n",
       "      <td>3.550300</td>\n",
       "      <td>3.125999</td>\n",
       "      <td>-0.286279</td>\n",
       "      <td>1.666733</td>\n",
       "      <td>...</td>\n",
       "      <td>0.958446</td>\n",
       "      <td>-0.064985</td>\n",
       "      <td>-0.271156</td>\n",
       "      <td>-1.343956</td>\n",
       "      <td>0.37689</td>\n",
       "      <td>-0.034957</td>\n",
       "      <td>-1.235021</td>\n",
       "      <td>-1.334022</td>\n",
       "      <td>1.167686</td>\n",
       "      <td>-0.555229</td>\n",
       "    </tr>\n",
       "    <tr>\n",
       "      <th>4</th>\n",
       "      <td>-0.382242</td>\n",
       "      <td>-0.444379</td>\n",
       "      <td>-0.393911</td>\n",
       "      <td>-0.239831</td>\n",
       "      <td>-0.705907</td>\n",
       "      <td>-0.592764</td>\n",
       "      <td>3.550300</td>\n",
       "      <td>3.125999</td>\n",
       "      <td>-0.286279</td>\n",
       "      <td>-0.317966</td>\n",
       "      <td>...</td>\n",
       "      <td>-0.207993</td>\n",
       "      <td>-0.899883</td>\n",
       "      <td>0.226313</td>\n",
       "      <td>-1.343956</td>\n",
       "      <td>0.37689</td>\n",
       "      <td>-0.034957</td>\n",
       "      <td>-0.032569</td>\n",
       "      <td>-1.334022</td>\n",
       "      <td>-0.036710</td>\n",
       "      <td>1.815976</td>\n",
       "    </tr>\n",
       "  </tbody>\n",
       "</table>\n",
       "<p>5 rows × 21 columns</p>\n",
       "</div>"
      ],
      "text/plain": [
       "   HomePage  HomePage_Duration  LandingPage  LandingPage_Duration  \\\n",
       "0 -0.687976          -0.444379    -0.393911             -0.239831   \n",
       "1 -0.687976          -0.444379    -0.393911             -0.239831   \n",
       "2 -0.687976          -0.444379    -0.393911             -0.239831   \n",
       "3 -0.687976          -0.444379    -0.393911             -0.239831   \n",
       "4 -0.382242          -0.444379    -0.393911             -0.239831   \n",
       "\n",
       "   ProductDescriptionPage  ProductDescriptionPage_Duration  \\\n",
       "0               -0.683539                        -0.592764   \n",
       "1               -0.661172                        -0.591430   \n",
       "2               -0.482232                        -0.278701   \n",
       "3               -0.683539                        -0.592764   \n",
       "4               -0.705907                        -0.592764   \n",
       "\n",
       "   GoogleMetric:Bounce Rates  GoogleMetric:Exit Rates  \\\n",
       "0                   3.550300                 3.125999   \n",
       "1                   0.535338                 1.918551   \n",
       "2                  -0.067655                 0.107380   \n",
       "3                   3.550300                 3.125999   \n",
       "4                   3.550300                 3.125999   \n",
       "\n",
       "   GoogleMetric:Page Values  SeasonalPurchase  ...  SearchEngine      Zone  \\\n",
       "0                 -0.286279         -0.317966  ...     -0.791213  2.439708   \n",
       "1                 -0.286279         -0.317966  ...     -0.207993 -0.482434   \n",
       "2                 -0.286279         -0.317966  ...      0.375226 -0.899883   \n",
       "3                 -0.286279          1.666733  ...      0.958446 -0.064985   \n",
       "4                 -0.286279         -0.317966  ...     -0.207993 -0.899883   \n",
       "\n",
       "   Type of Traffic  Month_SeasonalPurchase  CustomerType    Gender  \\\n",
       "0        -0.271156               -1.343956       0.37689  1.157060   \n",
       "1        -0.022422               -1.343956       0.37689 -1.226974   \n",
       "2        -0.022422               -1.343956       0.37689 -1.226974   \n",
       "3        -0.271156               -1.343956       0.37689 -0.034957   \n",
       "4         0.226313               -1.343956       0.37689 -0.034957   \n",
       "\n",
       "   Cookies Setting  Education  Marital Status  WeekendPurchase  \n",
       "0        -0.032569   0.415653       -0.036710        -0.555229  \n",
       "1        -0.032569   1.290491       -1.241106        -0.555229  \n",
       "2        -1.235021   1.290491       -1.241106         1.815976  \n",
       "3        -1.235021  -1.334022        1.167686        -0.555229  \n",
       "4        -0.032569  -1.334022       -0.036710         1.815976  \n",
       "\n",
       "[5 rows x 21 columns]"
      ]
     },
     "execution_count": 21,
     "metadata": {},
     "output_type": "execute_result"
    }
   ],
   "source": [
    "X_train1=pd.DataFrame()\n",
    "for i in num_list:\n",
    "    X_train1[i]=num_data[i]\n",
    "for i in cat_list:\n",
    "    X_train1[i]=cat_data[i]\n",
    "X_train1[:5]"
   ]
  },
  {
   "cell_type": "code",
   "execution_count": 22,
   "id": "d6604f13",
   "metadata": {
    "execution": {
     "iopub.execute_input": "2023-06-25T07:18:13.307176Z",
     "iopub.status.busy": "2023-06-25T07:18:13.304809Z",
     "iopub.status.idle": "2023-06-25T07:18:13.353445Z",
     "shell.execute_reply": "2023-06-25T07:18:13.352239Z"
    },
    "papermill": {
     "duration": 0.06838,
     "end_time": "2023-06-25T07:18:13.356124",
     "exception": false,
     "start_time": "2023-06-25T07:18:13.287744",
     "status": "completed"
    },
    "tags": []
   },
   "outputs": [
    {
     "data": {
      "text/html": [
       "<div>\n",
       "<style scoped>\n",
       "    .dataframe tbody tr th:only-of-type {\n",
       "        vertical-align: middle;\n",
       "    }\n",
       "\n",
       "    .dataframe tbody tr th {\n",
       "        vertical-align: top;\n",
       "    }\n",
       "\n",
       "    .dataframe thead th {\n",
       "        text-align: right;\n",
       "    }\n",
       "</style>\n",
       "<table border=\"1\" class=\"dataframe\">\n",
       "  <thead>\n",
       "    <tr style=\"text-align: right;\">\n",
       "      <th></th>\n",
       "      <th>HomePage</th>\n",
       "      <th>HomePage_Duration</th>\n",
       "      <th>LandingPage</th>\n",
       "      <th>LandingPage_Duration</th>\n",
       "      <th>ProductDescriptionPage</th>\n",
       "      <th>ProductDescriptionPage_Duration</th>\n",
       "      <th>GoogleMetric:Bounce Rates</th>\n",
       "      <th>GoogleMetric:Exit Rates</th>\n",
       "      <th>GoogleMetric:Page Values</th>\n",
       "      <th>SeasonalPurchase</th>\n",
       "      <th>...</th>\n",
       "      <th>SearchEngine</th>\n",
       "      <th>Zone</th>\n",
       "      <th>Type of Traffic</th>\n",
       "      <th>Month_SeasonalPurchase</th>\n",
       "      <th>CustomerType</th>\n",
       "      <th>Gender</th>\n",
       "      <th>Cookies Setting</th>\n",
       "      <th>Education</th>\n",
       "      <th>Marital Status</th>\n",
       "      <th>WeekendPurchase</th>\n",
       "    </tr>\n",
       "  </thead>\n",
       "  <tbody>\n",
       "    <tr>\n",
       "      <th>0</th>\n",
       "      <td>-0.685225</td>\n",
       "      <td>-0.458404</td>\n",
       "      <td>-0.390466</td>\n",
       "      <td>-0.245754</td>\n",
       "      <td>-0.686179</td>\n",
       "      <td>-0.603393</td>\n",
       "      <td>3.690372</td>\n",
       "      <td>3.245874</td>\n",
       "      <td>-0.283489</td>\n",
       "      <td>-0.318347</td>\n",
       "      <td>...</td>\n",
       "      <td>-0.792305</td>\n",
       "      <td>-0.910830</td>\n",
       "      <td>-0.759229</td>\n",
       "      <td>-1.320981</td>\n",
       "      <td>0.374272</td>\n",
       "      <td>1.151574</td>\n",
       "      <td>-0.022757</td>\n",
       "      <td>0.409839</td>\n",
       "      <td>1.189817</td>\n",
       "      <td>-0.545771</td>\n",
       "    </tr>\n",
       "    <tr>\n",
       "      <th>1</th>\n",
       "      <td>-0.685225</td>\n",
       "      <td>-0.458404</td>\n",
       "      <td>-0.390466</td>\n",
       "      <td>-0.245754</td>\n",
       "      <td>-0.663108</td>\n",
       "      <td>-0.569848</td>\n",
       "      <td>-0.465268</td>\n",
       "      <td>1.166859</td>\n",
       "      <td>-0.283489</td>\n",
       "      <td>-0.318347</td>\n",
       "      <td>...</td>\n",
       "      <td>-0.208760</td>\n",
       "      <td>-0.910830</td>\n",
       "      <td>-0.509643</td>\n",
       "      <td>-1.320981</td>\n",
       "      <td>0.374272</td>\n",
       "      <td>1.151574</td>\n",
       "      <td>-1.214598</td>\n",
       "      <td>-0.467116</td>\n",
       "      <td>-1.227177</td>\n",
       "      <td>-0.545771</td>\n",
       "    </tr>\n",
       "    <tr>\n",
       "      <th>2</th>\n",
       "      <td>-0.685225</td>\n",
       "      <td>-0.458404</td>\n",
       "      <td>-0.390466</td>\n",
       "      <td>-0.245754</td>\n",
       "      <td>-0.270902</td>\n",
       "      <td>-0.522563</td>\n",
       "      <td>-0.137191</td>\n",
       "      <td>-0.401520</td>\n",
       "      <td>-0.283489</td>\n",
       "      <td>-0.318347</td>\n",
       "      <td>...</td>\n",
       "      <td>-0.208760</td>\n",
       "      <td>-0.910830</td>\n",
       "      <td>-0.260057</td>\n",
       "      <td>-1.320981</td>\n",
       "      <td>0.374272</td>\n",
       "      <td>-1.240003</td>\n",
       "      <td>1.169085</td>\n",
       "      <td>-1.344071</td>\n",
       "      <td>-0.018680</td>\n",
       "      <td>-0.545771</td>\n",
       "    </tr>\n",
       "    <tr>\n",
       "      <th>3</th>\n",
       "      <td>-0.685225</td>\n",
       "      <td>-0.458404</td>\n",
       "      <td>-0.390466</td>\n",
       "      <td>-0.245754</td>\n",
       "      <td>-0.663108</td>\n",
       "      <td>-0.584000</td>\n",
       "      <td>-0.465268</td>\n",
       "      <td>1.166859</td>\n",
       "      <td>-0.283489</td>\n",
       "      <td>3.642638</td>\n",
       "      <td>...</td>\n",
       "      <td>-0.208760</td>\n",
       "      <td>-0.493912</td>\n",
       "      <td>-0.260057</td>\n",
       "      <td>-1.320981</td>\n",
       "      <td>0.374272</td>\n",
       "      <td>1.151574</td>\n",
       "      <td>1.169085</td>\n",
       "      <td>-0.467116</td>\n",
       "      <td>-0.018680</td>\n",
       "      <td>-0.545771</td>\n",
       "    </tr>\n",
       "    <tr>\n",
       "      <th>4</th>\n",
       "      <td>-0.685225</td>\n",
       "      <td>-0.458404</td>\n",
       "      <td>-0.390466</td>\n",
       "      <td>-0.245754</td>\n",
       "      <td>-0.340115</td>\n",
       "      <td>-0.389679</td>\n",
       "      <td>-0.075677</td>\n",
       "      <td>-0.375077</td>\n",
       "      <td>-0.283489</td>\n",
       "      <td>1.662145</td>\n",
       "      <td>...</td>\n",
       "      <td>-0.792305</td>\n",
       "      <td>0.339923</td>\n",
       "      <td>-0.260057</td>\n",
       "      <td>-1.320981</td>\n",
       "      <td>0.374272</td>\n",
       "      <td>-1.240003</td>\n",
       "      <td>-0.022757</td>\n",
       "      <td>1.286794</td>\n",
       "      <td>-0.018680</td>\n",
       "      <td>-0.545771</td>\n",
       "    </tr>\n",
       "  </tbody>\n",
       "</table>\n",
       "<p>5 rows × 21 columns</p>\n",
       "</div>"
      ],
      "text/plain": [
       "   HomePage  HomePage_Duration  LandingPage  LandingPage_Duration  \\\n",
       "0 -0.685225          -0.458404    -0.390466             -0.245754   \n",
       "1 -0.685225          -0.458404    -0.390466             -0.245754   \n",
       "2 -0.685225          -0.458404    -0.390466             -0.245754   \n",
       "3 -0.685225          -0.458404    -0.390466             -0.245754   \n",
       "4 -0.685225          -0.458404    -0.390466             -0.245754   \n",
       "\n",
       "   ProductDescriptionPage  ProductDescriptionPage_Duration  \\\n",
       "0               -0.686179                        -0.603393   \n",
       "1               -0.663108                        -0.569848   \n",
       "2               -0.270902                        -0.522563   \n",
       "3               -0.663108                        -0.584000   \n",
       "4               -0.340115                        -0.389679   \n",
       "\n",
       "   GoogleMetric:Bounce Rates  GoogleMetric:Exit Rates  \\\n",
       "0                   3.690372                 3.245874   \n",
       "1                  -0.465268                 1.166859   \n",
       "2                  -0.137191                -0.401520   \n",
       "3                  -0.465268                 1.166859   \n",
       "4                  -0.075677                -0.375077   \n",
       "\n",
       "   GoogleMetric:Page Values  SeasonalPurchase  ...  SearchEngine      Zone  \\\n",
       "0                 -0.283489         -0.318347  ...     -0.792305 -0.910830   \n",
       "1                 -0.283489         -0.318347  ...     -0.208760 -0.910830   \n",
       "2                 -0.283489         -0.318347  ...     -0.208760 -0.910830   \n",
       "3                 -0.283489          3.642638  ...     -0.208760 -0.493912   \n",
       "4                 -0.283489          1.662145  ...     -0.792305  0.339923   \n",
       "\n",
       "   Type of Traffic  Month_SeasonalPurchase  CustomerType    Gender  \\\n",
       "0        -0.759229               -1.320981      0.374272  1.151574   \n",
       "1        -0.509643               -1.320981      0.374272  1.151574   \n",
       "2        -0.260057               -1.320981      0.374272 -1.240003   \n",
       "3        -0.260057               -1.320981      0.374272  1.151574   \n",
       "4        -0.260057               -1.320981      0.374272 -1.240003   \n",
       "\n",
       "   Cookies Setting  Education  Marital Status  WeekendPurchase  \n",
       "0        -0.022757   0.409839        1.189817        -0.545771  \n",
       "1        -1.214598  -0.467116       -1.227177        -0.545771  \n",
       "2         1.169085  -1.344071       -0.018680        -0.545771  \n",
       "3         1.169085  -0.467116       -0.018680        -0.545771  \n",
       "4        -0.022757   1.286794       -0.018680        -0.545771  \n",
       "\n",
       "[5 rows x 21 columns]"
      ]
     },
     "execution_count": 22,
     "metadata": {},
     "output_type": "execute_result"
    }
   ],
   "source": [
    "X_test1=pd.DataFrame()\n",
    "for i in num_list:\n",
    "    X_test1[i]=num_data1[i]\n",
    "for i in cat_list:\n",
    "    X_test1[i]=cat_data1[i]\n",
    "X_test1[:5]"
   ]
  },
  {
   "cell_type": "code",
   "execution_count": 23,
   "id": "ea50e12e",
   "metadata": {
    "execution": {
     "iopub.execute_input": "2023-06-25T07:18:13.389365Z",
     "iopub.status.busy": "2023-06-25T07:18:13.388961Z",
     "iopub.status.idle": "2023-06-25T07:18:13.396826Z",
     "shell.execute_reply": "2023-06-25T07:18:13.395365Z"
    },
    "papermill": {
     "duration": 0.027777,
     "end_time": "2023-06-25T07:18:13.399200",
     "exception": false,
     "start_time": "2023-06-25T07:18:13.371423",
     "status": "completed"
    },
    "tags": []
   },
   "outputs": [
    {
     "name": "stdout",
     "output_type": "stream",
     "text": [
      "(14731, 21)\n",
      "(6599, 21)\n"
     ]
    }
   ],
   "source": [
    "print(X_train1.shape)\n",
    "print(X_test1.shape)"
   ]
  },
  {
   "cell_type": "code",
   "execution_count": 24,
   "id": "63484992",
   "metadata": {
    "execution": {
     "iopub.execute_input": "2023-06-25T07:18:13.430555Z",
     "iopub.status.busy": "2023-06-25T07:18:13.430123Z",
     "iopub.status.idle": "2023-06-25T07:18:14.549319Z",
     "shell.execute_reply": "2023-06-25T07:18:14.548156Z"
    },
    "papermill": {
     "duration": 1.138135,
     "end_time": "2023-06-25T07:18:14.552086",
     "exception": false,
     "start_time": "2023-06-25T07:18:13.413951",
     "status": "completed"
    },
    "tags": []
   },
   "outputs": [
    {
     "name": "stdout",
     "output_type": "stream",
     "text": [
      "0.40993939393939394\n",
      "              precision    recall  f1-score   support\n",
      "\n",
      "       False       0.67      0.90      0.77      9065\n",
      "        True       0.65      0.30      0.41      5666\n",
      "\n",
      "    accuracy                           0.67     14731\n",
      "   macro avg       0.66      0.60      0.59     14731\n",
      "weighted avg       0.67      0.67      0.63     14731\n",
      "\n"
     ]
    }
   ],
   "source": [
    "from sklearn.metrics import f1_score, classification_report\n",
    "from sklearn.model_selection import GridSearchCV\n",
    "from sklearn.ensemble import AdaBoostClassifier\n",
    "model=AdaBoostClassifier()\n",
    "model.fit(X_train1, y_train)\n",
    "y_pred_train=model.predict(X_train1)\n",
    "print(f1_score(y_train,y_pred_train))\n",
    "print(classification_report(y_train, y_pred_train))"
   ]
  },
  {
   "cell_type": "code",
   "execution_count": 25,
   "id": "d07cc2be",
   "metadata": {
    "execution": {
     "iopub.execute_input": "2023-06-25T07:18:14.584308Z",
     "iopub.status.busy": "2023-06-25T07:18:14.583200Z",
     "iopub.status.idle": "2023-06-25T07:18:14.651450Z",
     "shell.execute_reply": "2023-06-25T07:18:14.650035Z"
    },
    "papermill": {
     "duration": 0.087321,
     "end_time": "2023-06-25T07:18:14.654196",
     "exception": false,
     "start_time": "2023-06-25T07:18:14.566875",
     "status": "completed"
    },
    "tags": []
   },
   "outputs": [
    {
     "name": "stdout",
     "output_type": "stream",
     "text": [
      "[False False False False False]\n",
      "(6599,)\n"
     ]
    }
   ],
   "source": [
    "y_pred=model.predict(X_test1)\n",
    "print(y_pred[:5])\n",
    "print(y_pred.shape)"
   ]
  },
  {
   "cell_type": "code",
   "execution_count": 26,
   "id": "1ba6cf3b",
   "metadata": {
    "execution": {
     "iopub.execute_input": "2023-06-25T07:18:14.686659Z",
     "iopub.status.busy": "2023-06-25T07:18:14.685818Z",
     "iopub.status.idle": "2023-06-25T07:18:14.708526Z",
     "shell.execute_reply": "2023-06-25T07:18:14.707111Z"
    },
    "papermill": {
     "duration": 0.041844,
     "end_time": "2023-06-25T07:18:14.711078",
     "exception": false,
     "start_time": "2023-06-25T07:18:14.669234",
     "status": "completed"
    },
    "tags": []
   },
   "outputs": [
    {
     "name": "stdout",
     "output_type": "stream",
     "text": [
      "Purchase was made by =  1113\n",
      "Purchase was not made by =  5486\n"
     ]
    }
   ],
   "source": [
    "true_val, false_val=0,0\n",
    "for i in range (6599):\n",
    "    if y_pred[i]==True:\n",
    "        true_val+=1\n",
    "    else:\n",
    "        false_val+=1\n",
    "print('Purchase was made by = ',true_val)\n",
    "print('Purchase was not made by = ',false_val)"
   ]
  },
  {
   "cell_type": "code",
   "execution_count": 27,
   "id": "49f2aacb",
   "metadata": {
    "execution": {
     "iopub.execute_input": "2023-06-25T07:18:14.744452Z",
     "iopub.status.busy": "2023-06-25T07:18:14.743413Z",
     "iopub.status.idle": "2023-06-25T07:18:14.761956Z",
     "shell.execute_reply": "2023-06-25T07:18:14.760594Z"
    },
    "papermill": {
     "duration": 0.038539,
     "end_time": "2023-06-25T07:18:14.764919",
     "exception": false,
     "start_time": "2023-06-25T07:18:14.726380",
     "status": "completed"
    },
    "tags": []
   },
   "outputs": [
    {
     "data": {
      "text/html": [
       "<div>\n",
       "<style scoped>\n",
       "    .dataframe tbody tr th:only-of-type {\n",
       "        vertical-align: middle;\n",
       "    }\n",
       "\n",
       "    .dataframe tbody tr th {\n",
       "        vertical-align: top;\n",
       "    }\n",
       "\n",
       "    .dataframe thead th {\n",
       "        text-align: right;\n",
       "    }\n",
       "</style>\n",
       "<table border=\"1\" class=\"dataframe\">\n",
       "  <thead>\n",
       "    <tr style=\"text-align: right;\">\n",
       "      <th></th>\n",
       "      <th>id</th>\n",
       "      <th>Made_Purchase</th>\n",
       "    </tr>\n",
       "  </thead>\n",
       "  <tbody>\n",
       "    <tr>\n",
       "      <th>0</th>\n",
       "      <td>0</td>\n",
       "      <td>False</td>\n",
       "    </tr>\n",
       "    <tr>\n",
       "      <th>1</th>\n",
       "      <td>1</td>\n",
       "      <td>False</td>\n",
       "    </tr>\n",
       "    <tr>\n",
       "      <th>2</th>\n",
       "      <td>2</td>\n",
       "      <td>False</td>\n",
       "    </tr>\n",
       "  </tbody>\n",
       "</table>\n",
       "</div>"
      ],
      "text/plain": [
       "   id  Made_Purchase\n",
       "0   0          False\n",
       "1   1          False\n",
       "2   2          False"
      ]
     },
     "execution_count": 27,
     "metadata": {},
     "output_type": "execute_result"
    }
   ],
   "source": [
    "columns=['id','Made_Purchase']\n",
    "submission=pd.DataFrame()\n",
    "submission['id']=np.array([i for i in range(6599)])\n",
    "submission['Made_Purchase']=y_pred\n",
    "submission[:3]    "
   ]
  },
  {
   "cell_type": "code",
   "execution_count": 28,
   "id": "d2be8c7b",
   "metadata": {
    "execution": {
     "iopub.execute_input": "2023-06-25T07:18:14.796928Z",
     "iopub.status.busy": "2023-06-25T07:18:14.796532Z",
     "iopub.status.idle": "2023-06-25T07:18:14.815700Z",
     "shell.execute_reply": "2023-06-25T07:18:14.814713Z"
    },
    "papermill": {
     "duration": 0.038273,
     "end_time": "2023-06-25T07:18:14.818445",
     "exception": false,
     "start_time": "2023-06-25T07:18:14.780172",
     "status": "completed"
    },
    "tags": []
   },
   "outputs": [],
   "source": [
    "submission.to_csv('submission.csv', index=False)"
   ]
  }
 ],
 "metadata": {
  "kernelspec": {
   "display_name": "Python 3",
   "language": "python",
   "name": "python3"
  },
  "language_info": {
   "codemirror_mode": {
    "name": "ipython",
    "version": 3
   },
   "file_extension": ".py",
   "mimetype": "text/x-python",
   "name": "python",
   "nbconvert_exporter": "python",
   "pygments_lexer": "ipython3",
   "version": "3.7.12"
  },
  "papermill": {
   "default_parameters": {},
   "duration": 15.960169,
   "end_time": "2023-06-25T07:18:15.556257",
   "environment_variables": {},
   "exception": null,
   "input_path": "__notebook__.ipynb",
   "output_path": "__notebook__.ipynb",
   "parameters": {},
   "start_time": "2023-06-25T07:17:59.596088",
   "version": "2.3.4"
  }
 },
 "nbformat": 4,
 "nbformat_minor": 5
}
